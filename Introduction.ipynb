{
  "nbformat": 4,
  "nbformat_minor": 0,
  "metadata": {
    "colab": {
      "provenance": [],
      "include_colab_link": true
    },
    "kernelspec": {
      "name": "python3",
      "display_name": "Python 3"
    },
    "language_info": {
      "name": "python"
    }
  },
  "cells": [
    {
      "cell_type": "markdown",
      "metadata": {
        "id": "view-in-github",
        "colab_type": "text"
      },
      "source": [
        "<a href=\"https://colab.research.google.com/github/drupal786/Algos/blob/main/Introduction.ipynb\" target=\"_parent\"><img src=\"https://colab.research.google.com/assets/colab-badge.svg\" alt=\"Open In Colab\"/></a>"
      ]
    },
    {
      "cell_type": "code",
      "source": [
        "import sys, struct, pickle, json\n",
        "from sys import getsizeof\n",
        "from dataclasses import dataclass, field\n",
        "from typing import Tuple, Dict"
      ],
      "metadata": {
        "id": "iFCEQPtlyhrT"
      },
      "execution_count": null,
      "outputs": []
    },
    {
      "cell_type": "code",
      "source": [
        "instrument_tokens = {\n",
        "    f\"BANKNIFTY18SEP24C{i}\": i*13 for i in range(42000, 52000, 100)\n",
        "} | {f\"BANKNIFTY18SEP24P{i}\": i*19 for i in range(42000, 52000, 100)}\n",
        "\n",
        "token_instruments = {\n",
        "    v: k\n",
        "    for k, v in instrument_tokens.items()\n",
        "}"
      ],
      "metadata": {
        "id": "71iHcXIh8Mvt"
      },
      "execution_count": null,
      "outputs": []
    },
    {
      "cell_type": "code",
      "execution_count": null,
      "metadata": {
        "id": "V4MGOvInyI1e"
      },
      "outputs": [],
      "source": [
        "raw_instrument_data = {\n",
        "    'ft': 1726115101,\n",
        "    'tk': '881600',\n",
        "    'lp': 2.85,\n",
        "    'ohlc': {\n",
        "        'o': 2.85,\n",
        "        'h': 2.9,\n",
        "        'l': 2.85,\n",
        "        'c': 2.85,\n",
        "        'v': 2844810,\n",
        "        'oi': 119460\n",
        "    }\n",
        "}\n",
        "raw_200_instruments_data = {\n",
        "    k: {} | raw_instrument_data\n",
        "    for cp in (\n",
        "        (f\"BANKNIFTY18SEP24C{i}\", f\"BANKNIFTY18SEP24P{i}\")\n",
        "        for i in range(42000, 52000, 100)\n",
        "    )\n",
        "    for k in cp\n",
        "}\n",
        "[\n",
        "    raw_200_instruments_data[k].__setitem__(\"tk\", str(instrument_tokens[k]))\n",
        "    for k in raw_200_instruments_data\n",
        "]\n",
        "# raw_200_instruments_data"
      ]
    },
    {
      "cell_type": "code",
      "source": [
        "print(f\"{getsizeof(raw_instrument_data) = } bytes\") # 232 bytes as python dict object\n",
        "print(f\"{getsizeof(json.dumps(raw_instrument_data)) = } bytes\") # 176 bytes as a string obtaine dby json.dumps method (For transmission over network as serilalised object)\n",
        "print(f\"{getsizeof(raw_200_instruments_data) = } bytes\") # 9,312 bytes / 9.09375 KiB or python dict object\n",
        "print(f\"{getsizeof(json.dumps(raw_200_instruments_data)) = } bytes\") # 31,049 bytes / 30.3213 KiB as a string obtaine dby json.dumps method (For transmission over network as serilalised object)"
      ],
      "metadata": {
        "colab": {
          "base_uri": "https://localhost:8080/"
        },
        "id": "Mvh_cZxpXm-x",
        "outputId": "ef77d782-a417-4420-b40b-1a470a613e47"
      },
      "execution_count": null,
      "outputs": [
        {
          "output_type": "stream",
          "name": "stdout",
          "text": [
            "getsizeof(raw_instrument_data) = 232 bytes\n",
            "getsizeof(json.dumps(raw_instrument_data)) = 176 bytes\n",
            "getsizeof(raw_200_instruments_data) = 9312 bytes\n",
            "getsizeof(json.dumps(raw_200_instruments_data)) = 31049 bytes\n"
          ]
        }
      ]
    },
    {
      "cell_type": "code",
      "source": [
        "@dataclass\n",
        "class Ohlcvoi:\n",
        "    open: float\n",
        "    high: float\n",
        "    low: float\n",
        "    close: float\n",
        "    volume: int\n",
        "    oi: int\n",
        "\n",
        "    @classmethod\n",
        "    def from_dict(cls, raw: Dict[str, float|int]) -> \"Ohlcvoi\":\n",
        "        return cls(*(\n",
        "            raw[k]\n",
        "            for k in (*\"ohlcv\", \"oi\")\n",
        "        ))\n",
        "\n",
        "    def as_dict(self) -> Dict[str, float|int]:\n",
        "        return {\n",
        "            \"o\": self.open,\n",
        "            \"h\": self.high,\n",
        "            \"l\": self.low,\n",
        "            \"c\": self.close,\n",
        "            \"v\": self.volume,\n",
        "            \"oi\": self.oi\n",
        "        }\n",
        "\n",
        "    def as_bin(self) -> bytes:\n",
        "        return struct.pack(\">4f2I\", *(self.open, self.high, self.low, self.close, self.volume, self.oi))\n",
        "\n",
        "    @classmethod\n",
        "    def from_bin(cls, data: bytes) -> \"Ohlcvoi\":\n",
        "        return cls(*struct.unpack(\">4f2I\", data))\n",
        "\n",
        "@dataclass\n",
        "class InstrumentData:\n",
        "    forward_time: int\n",
        "    token: int\n",
        "    last_price: float\n",
        "    ohlc: Ohlcvoi\n",
        "\n",
        "    @classmethod\n",
        "    def from_dict(cls, raw: Dict[str, float|int]) -> \"InstrumentData\":\n",
        "        return cls(\n",
        "            raw[\"ft\"],\n",
        "            int(raw[\"tk\"]),\n",
        "            raw[\"lp\"],\n",
        "            Ohlcvoi.from_dict(raw[\"ohlc\"])\n",
        "        )\n",
        "\n",
        "    def as_dict(self) -> Dict[str, float|int]:\n",
        "        return {\n",
        "            \"ft\": self.forward_time,\n",
        "            \"tk\": str(self.token),\n",
        "            \"lp\": self.last_price,\n",
        "            \"ohlc\": self.ohlc.as_dict()\n",
        "        }\n",
        "\n",
        "    def as_bin(self) -> bytes:\n",
        "        return (\n",
        "            struct.pack(\">2If\", *(self.forward_time, self.token, self.last_price))\n",
        "            + self.ohlc.as_bin()\n",
        "        )\n",
        "\n",
        "    @classmethod\n",
        "    def from_bin(cls, data: bytes) -> \"Ohlcvoi\":\n",
        "        return cls(\n",
        "            *struct.unpack(\">2If\", data[:12]),\n",
        "            Ohlcvoi.from_bin(data[12:])\n",
        "        )\n",
        "\n",
        "@dataclass\n",
        "class InstrumentsData:\n",
        "    data: Dict[str, InstrumentData] = field(default_factory=dict)\n",
        "\n",
        "    @classmethod\n",
        "    def from_dict(cls, raw: Dict[str, Dict[str, float|int]]) -> \"InstrumentsData\":\n",
        "        return cls(\n",
        "            {\n",
        "                k: InstrumentData.from_dict(v)\n",
        "                for k, v in raw.items()\n",
        "            }\n",
        "        )\n",
        "\n",
        "    def as_dict(self) -> Dict[str, Dict[str, float|int]]:\n",
        "        return {\n",
        "            k: v.as_dict()\n",
        "            for k, v in self.data.items()\n",
        "        }\n",
        "\n",
        "    def as_bin(self) -> bytes:\n",
        "        return struct.pack(\">I\", len(self)) + b\"\".join(\n",
        "            v.as_bin()\n",
        "            for v in self.data.values()\n",
        "        )\n",
        "\n",
        "    @classmethod\n",
        "    def from_bin(cls, data: bytes) -> \"InstrumentsData\":\n",
        "        packet_len = struct.calcsize(\">2I5f2I\")\n",
        "        no_of_packets = struct.unpack(\">I\", data[:4])[0]\n",
        "        print(packet_len, no_of_packets)\n",
        "        data = data[4:]\n",
        "        dict_data = [\n",
        "            InstrumentData.from_bin(data[i*packet_len:(i+1)*packet_len])\n",
        "            for i in range(no_of_packets)\n",
        "        ]\n",
        "        return cls(\n",
        "            {\n",
        "                token_instruments[v.token]: v\n",
        "                for v in dict_data\n",
        "\n",
        "            }\n",
        "        )\n",
        "\n",
        "    def __contains__(self, key: str) -> bool:\n",
        "        return key in self.data\n",
        "\n",
        "    def __getitem__(self, key: str) -> InstrumentData:\n",
        "        return self.data[key]\n",
        "\n",
        "    def __setitem__(self, key: str, value: InstrumentData):\n",
        "        self.data[key] = value\n",
        "\n",
        "    def __len__(self) -> int:\n",
        "        return len(self.data)"
      ],
      "metadata": {
        "id": "GVQ5Mz91Bgfc"
      },
      "execution_count": null,
      "outputs": []
    },
    {
      "cell_type": "code",
      "source": [
        "Ohlcvoi.from_dict(raw_instrument_data[\"ohlc\"])"
      ],
      "metadata": {
        "colab": {
          "base_uri": "https://localhost:8080/"
        },
        "id": "DiCvVe80EipD",
        "outputId": "577c1114-d183-4f7a-b1f6-30b6393db70a"
      },
      "execution_count": null,
      "outputs": [
        {
          "output_type": "execute_result",
          "data": {
            "text/plain": [
              "Ohlcvoi(open=2.85, high=2.9, low=2.85, close=2.85, volume=2844810, oi=119460)"
            ]
          },
          "metadata": {},
          "execution_count": 6
        }
      ]
    },
    {
      "cell_type": "code",
      "source": [
        "InstrumentData.from_dict(raw_instrument_data)"
      ],
      "metadata": {
        "colab": {
          "base_uri": "https://localhost:8080/"
        },
        "id": "gdArVT3uR5Mt",
        "outputId": "6deb2b28-0997-40f5-d95a-97b681dcaf09"
      },
      "execution_count": null,
      "outputs": [
        {
          "output_type": "execute_result",
          "data": {
            "text/plain": [
              "InstrumentData(forward_time=1726115101, token=881600, last_price=2.85, ohlc=Ohlcvoi(open=2.85, high=2.9, low=2.85, close=2.85, volume=2844810, oi=119460))"
            ]
          },
          "metadata": {},
          "execution_count": 7
        }
      ]
    },
    {
      "cell_type": "code",
      "source": [
        "print(f\"{getsizeof(InstrumentData.from_dict(raw_instrument_data)) = } bytes\") # 48 bytes, while same data as python dict object takes 232 bytes"
      ],
      "metadata": {
        "colab": {
          "base_uri": "https://localhost:8080/"
        },
        "id": "xEj0STk-SP4N",
        "outputId": "45157adb-7451-42eb-8e08-960dab633775"
      },
      "execution_count": null,
      "outputs": [
        {
          "output_type": "stream",
          "name": "stdout",
          "text": [
            "getsizeof(InstrumentData.from_dict(raw_instrument_data)) = 48 bytes\n"
          ]
        }
      ]
    },
    {
      "cell_type": "code",
      "source": [
        "print(InstrumentData.from_dict(raw_instrument_data).as_bin(), end=\"\\n\"*2)"
      ],
      "metadata": {
        "colab": {
          "base_uri": "https://localhost:8080/"
        },
        "id": "Jw-E2QXKSSIO",
        "outputId": "b7435440-e334-470e-c51c-cc90a0f26b30"
      },
      "execution_count": null,
      "outputs": [
        {
          "output_type": "stream",
          "name": "stdout",
          "text": [
            "b'f\\xe2m\\x1d\\x00\\rs\\xc0@6ff@6ff@9\\x99\\x9a@6ff@6ff\\x00+h\\x8a\\x00\\x01\\xd2\\xa4'\n",
            "\n"
          ]
        }
      ]
    },
    {
      "cell_type": "code",
      "source": [
        "InstrumentsData.from_dict(raw_200_instruments_data)"
      ],
      "metadata": {
        "id": "uAo0YyKkVhOF"
      },
      "execution_count": null,
      "outputs": []
    },
    {
      "cell_type": "code",
      "source": [
        "InstrumentsData.from_dict(raw_200_instruments_data).as_bin()"
      ],
      "metadata": {
        "id": "7Lvv6GNsT1ve"
      },
      "execution_count": null,
      "outputs": []
    },
    {
      "cell_type": "code",
      "source": [
        "InstrumentsData.from_bin(InstrumentsData.from_dict(raw_200_instruments_data).as_bin())"
      ],
      "metadata": {
        "id": "pat_zeOkUY6u"
      },
      "execution_count": null,
      "outputs": []
    },
    {
      "cell_type": "code",
      "source": [
        "print(f\"{len(InstrumentsData.from_dict(raw_200_instruments_data).as_bin()) = } bytes\")\n",
        "# 36 * 200 = 7200 bytes / 7.03125 KiB Plus No Packets U32(4 bytes) Prefixed, Hence 7,204 bytes / 7.03515 KiB for 200 Instruments\n",
        "# while same data serialized as string and ready for transmission over network takes 31,049 bytes / 30.3213 KiB as a string obtained by json.dumps method\n",
        "\n",
        "print(f\"{len(InstrumentData.from_dict(raw_instrument_data).as_bin()) = } bytes\")\n",
        "# 36 bytes (serialised as binary data, ready for transmission over network), while same data serialized as string and ready for transmission over network takes 176 bytes"
      ],
      "metadata": {
        "colab": {
          "base_uri": "https://localhost:8080/"
        },
        "id": "QxCsXJFcUOnG",
        "outputId": "12f25703-e8d8-42ec-8535-78cdd31c67d4"
      },
      "execution_count": null,
      "outputs": [
        {
          "output_type": "stream",
          "name": "stdout",
          "text": [
            "len(InstrumentsData.from_dict(raw_200_instruments_data).as_bin()) = 7204 bytes\n",
            "len(InstrumentData.from_dict(raw_instrument_data).as_bin()) = 36 bytes\n"
          ]
        }
      ]
    }
  ]
}